{
 "cells": [
  {
   "cell_type": "code",
   "execution_count": 21,
   "metadata": {},
   "outputs": [
    {
     "name": "stdout",
     "output_type": "stream",
     "text": [
      "0    3620\n",
      "1    7891\n",
      "2    9761\n",
      "3    3907\n",
      "4    4338\n",
      "5    5373\n",
      "Name: steps, dtype: int64\n",
      "2018-01-29    3620\n",
      "2018-01-30    7891\n",
      "2018-01-31    9761\n",
      "2018-02-01    3907\n",
      "2018-02-02    4338\n",
      "2018-02-03    5373\n",
      "Freq: D, Name: steps, dtype: int64\n",
      "7891\n",
      "2018-01-29    3620\n",
      "2018-01-30    7891\n",
      "2018-01-31    9761\n",
      "Freq: D, Name: steps, dtype: int64\n"
     ]
    }
   ],
   "source": [
    "#pandas library functions implementation\n",
    "import numpy as np\n",
    "import matplotlib.pyplot as plt\n",
    "import seaborn as sns\n",
    "%matplotlib inline\n",
    "import pandas as pa\n",
    "#panda step tracking using series function\n",
    "step_data=[3620,7891,9761,3907,4338,5373]\n",
    "step_counts=pa.Series(step_data,name='steps')\n",
    "print(step_counts)\n",
    "#add date range to series function\n",
    "step_counts.index=pa.date_range('20180129',periods=6)\n",
    "print(step_counts)\n",
    "#use it like dictionary\n",
    "print(step_counts['20180130'])\n",
    "#print all of '01' january\n",
    "print(step_counts['2018-01'])\n",
    "\n",
    "\n",
    "\n"
   ]
  },
  {
   "cell_type": "code",
   "execution_count": 18,
   "metadata": {},
   "outputs": [
    {
     "name": "stdout",
     "output_type": "stream",
     "text": [
      "int64\n",
      "float64\n"
     ]
    }
   ],
   "source": [
    "#working with data types\n",
    "#view data type\n",
    "print(step_counts.dtypes)\n",
    "#convert data type (int64) to float\n",
    "step_counts=step_counts.astype(np.float)\n",
    "print(step_counts.dtypes)"
   ]
  },
  {
   "cell_type": "code",
   "execution_count": 19,
   "metadata": {},
   "outputs": [
    {
     "name": "stdout",
     "output_type": "stream",
     "text": [
      "2018-01-29    3620.0\n",
      "2018-01-30       NaN\n",
      "2018-01-31       NaN\n",
      "2018-02-01    3907.0\n",
      "2018-02-02    4338.0\n",
      "2018-02-03    5373.0\n",
      "Freq: D, Name: steps, dtype: float64\n",
      "2018-01-30    0.0\n",
      "2018-01-31    0.0\n",
      "Freq: D, Name: steps, dtype: float64\n"
     ]
    }
   ],
   "source": [
    "#invalid data points can be filled with values\n",
    "step_counts[1:3]=np.NaN\n",
    "print(step_counts) #invalid data\n",
    "#filling invalid data with zeroes\n",
    "step_counts= step_counts.fillna(0.)\n",
    "print(step_counts[1:3])"
   ]
  },
  {
   "cell_type": "code",
   "execution_count": 34,
   "metadata": {},
   "outputs": [
    {
     "name": "stdout",
     "output_type": "stream",
     "text": [
      "      0     1\n",
      "0  3620  10.7\n",
      "1  7891   0.0\n",
      "2  9761   NaN\n",
      "3  3907   2.4\n",
      "4  4338  15.3\n",
      "5  5373  10.9\n",
      "            walking  cycling\n",
      "2018-01-29     3620     10.7\n",
      "2018-01-30     7891      0.0\n",
      "2018-01-31     9761      NaN\n",
      "2018-02-01     3907      2.4\n",
      "2018-02-02     4338     15.3\n",
      "2018-02-03     5373     10.9\n",
      "walking    7891.0\n",
      "cycling       0.0\n",
      "Name: 2018-01-30 00:00:00, dtype: float64\n",
      "walking    3907.0\n",
      "cycling       2.4\n",
      "Name: 2018-02-01 00:00:00, dtype: float64\n",
      "2018-01-29    3620\n",
      "2018-01-30    7891\n",
      "2018-01-31    9761\n",
      "2018-02-01    3907\n",
      "2018-02-02    4338\n",
      "2018-02-03    5373\n",
      "Freq: D, Name: walking, dtype: int64\n",
      "2018-01-29    3620\n",
      "2018-01-30    7891\n",
      "2018-01-31    9761\n",
      "2018-02-01    3907\n",
      "2018-02-02    4338\n",
      "2018-02-03    5373\n",
      "Freq: D, Name: walking, dtype: int64\n"
     ]
    }
   ],
   "source": [
    "#dataframes creation and methods\n",
    "#create dataframes from lists,dictionaries and pandas series.\n",
    "cycling_data=[10.7, 0, None, 2.4, 15.3, 10.9, 0, None]\n",
    "joined_data=list(zip(step_data,cycling_data))\n",
    "activity_df=pa.DataFrame(joined_data)\n",
    "print(activity_df)\n",
    "#add columns names to dataframe\n",
    "activity_df=pa.DataFrame(joined_data,index=pa.date_range('20180129',periods=6),columns=['walking','cycling'])\n",
    "print(activity_df)\n",
    "#select row of dataframe using \"loc\" or \"iloc\"\n",
    "print(activity_df.loc['2018-01-30']) \n",
    "print(activity_df.iloc[-3])\n",
    "#dataframes columns can be indexed by names\n",
    "print(activity_df['walking'])\n",
    "#object oriented approach\n",
    "print(activity_df.walking)\n"
   ]
  },
  {
   "cell_type": "code",
   "execution_count": 72,
   "metadata": {},
   "outputs": [
    {
     "name": "stdout",
     "output_type": "stream",
     "text": [
      "   sepal_length  sepal_width  petal_length  petal_width      species\n",
      "0           5.1          3.5           1.4          0.2  Iris-setosa\n",
      "1           4.9          3.0           1.4          0.2  Iris-setosa\n",
      "2           4.7          3.2           1.3          0.2  Iris-setosa\n",
      "3           4.6          3.1           1.5          0.2  Iris-setosa\n",
      "4           5.0          3.6           1.4          0.2  Iris-setosa\n",
      "   petal_width      species  sepal_area\n",
      "0          0.2  Iris-setosa       17.85\n",
      "1          0.2  Iris-setosa       14.70\n",
      "2          0.2  Iris-setosa       15.04\n",
      "3          0.2  Iris-setosa       14.26\n",
      "4          0.2  Iris-setosa       18.00\n",
      "   sepal_length  sepal_width  petal_length  petal_width      species  \\\n",
      "0           5.1          3.5           1.4          0.2  Iris-setosa   \n",
      "1           4.9          3.0           1.4          0.2  Iris-setosa   \n",
      "2           4.7          3.2           1.3          0.2  Iris-setosa   \n",
      "3           4.6          3.1           1.5          0.2  Iris-setosa   \n",
      "4           5.0          3.6           1.4          0.2  Iris-setosa   \n",
      "\n",
      "   sepal_area  abbrev  \n",
      "0       17.85  setosa  \n",
      "1       14.70  setosa  \n",
      "2       15.04  setosa  \n",
      "3       14.26  setosa  \n",
      "4       18.00  setosa  \n"
     ]
    }
   ],
   "source": [
    "#reading data(CSV and other common files) with pandas\n",
    "filename='/data/Iris_Data.csv'\n",
    "data=pa.read_csv(filename) \n",
    "print(data.iloc[:5])\n",
    "#data can be (re)assignned to data frame column\n",
    "data['sepal_area']=data.sepal_length * data.sepal_width\n",
    "print(data.iloc[:5,-3:])\n",
    "#applying function to a dataframe\n",
    "data['abbrev']= (data.species.apply(lambda x:x.replace('Iris-','')))\n",
    "print(data.iloc[:5])\n"
   ]
  },
  {
   "cell_type": "code",
   "execution_count": 73,
   "metadata": {},
   "outputs": [
    {
     "name": "stdout",
     "output_type": "stream",
     "text": [
      "     sepal_length  sepal_width  petal_length  petal_width         species  \\\n",
      "0             5.1          3.5           1.4          0.2     Iris-setosa   \n",
      "1             4.9          3.0           1.4          0.2     Iris-setosa   \n",
      "148           6.2          3.4           5.4          2.3  Iris-virginica   \n",
      "149           5.9          3.0           5.1          1.8  Iris-virginica   \n",
      "\n",
      "     sepal_area     abbrev  \n",
      "0         17.85     setosa  \n",
      "1         14.70     setosa  \n",
      "148       21.08  virginica  \n",
      "149       17.70  virginica  \n",
      "   sepal_length  sepal_width  petal_length  petal_width      species  \\\n",
      "2           4.7          3.2           1.3          0.2  Iris-setosa   \n",
      "\n",
      "   sepal_area  abbrev  \n",
      "2       15.04  setosa  \n"
     ]
    }
   ],
   "source": [
    "#concatenating two dataframes\n",
    "#concatenate first 2 and last2 rows\n",
    "small_data= pa.concat([data.iloc[:2],data.iloc[-2:]])\n",
    "print(small_data)\n",
    "print(data[2:3])\n",
    "#for sql like join use \"merge\" function\n",
    "#small_data2=pa.merge(data.iloc[2:5],data.iloc[10:14],on='species')\n",
    "#print(small_data2)\n",
    "\n"
   ]
  },
  {
   "cell_type": "code",
   "execution_count": 86,
   "metadata": {},
   "outputs": [
    {
     "name": "stdout",
     "output_type": "stream",
     "text": [
      "species\n",
      "Iris-setosa        50\n",
      "Iris-versicolor    50\n",
      "Iris-virginica     50\n",
      "dtype: int64\n",
      "sepal_length     5.843333\n",
      "sepal_width      3.054000\n",
      "petal_length     3.758667\n",
      "petal_width      1.198667\n",
      "sepal_area      17.806533\n",
      "dtype: float64\n",
      "median 4.35\n",
      "mode 0    1.5\n",
      "dtype: float64\n",
      "standard deviation 1.7644204199522617 \n",
      "variance 3.1131794183445156 \n",
      "sem 0.144064324021\n",
      "sepal_length     4.3\n",
      "sepal_width      2.0\n",
      "petal_length     1.0\n",
      "petal_width      0.1\n",
      "sepal_area      10.0\n",
      "Name: 0, dtype: float64\n",
      "       sepal_length  sepal_width  petal_length  petal_width  sepal_area\n",
      "count    150.000000   150.000000    150.000000   150.000000  150.000000\n",
      "mean       5.843333     3.054000      3.758667     1.198667   17.806533\n",
      "std        0.828066     0.433594      1.764420     0.763161    3.368693\n",
      "min        4.300000     2.000000      1.000000     0.100000   10.000000\n",
      "25%        5.100000     2.800000      1.600000     0.300000   15.645000\n",
      "50%        5.800000     3.000000      4.350000     1.300000   17.660000\n",
      "75%        6.400000     3.300000      5.100000     1.800000   20.325000\n",
      "max        7.900000     4.400000      6.900000     2.500000   30.020000\n"
     ]
    }
   ],
   "source": [
    "#aggregrated statistics ith group by\n",
    "group_sizes=(data.groupby('species').size())\n",
    "print(group_sizes)\n",
    "#statistical calculation \n",
    "print(data.mean())\n",
    "print(\"median\",data.petal_length.median())\n",
    "print(\"mode\",data.petal_length.mode())\n",
    "print(\"standard deviation\",data.petal_length.std(),\"\\nvariance\",data.petal_length.var(),\"\\nsem\",data.petal_length.sem())\n",
    "print(data.quantile(0))\n",
    "#multiple statistical calculations can be presented as dataframe\n",
    "print(data.describe())"
   ]
  },
  {
   "cell_type": "code",
   "execution_count": 88,
   "metadata": {},
   "outputs": [
    {
     "name": "stdout",
     "output_type": "stream",
     "text": [
      "             species  sepal_area      abbrev\n",
      "73   Iris-versicolor       17.08  versicolor\n",
      "18       Iris-setosa       21.66      setosa\n",
      "118   Iris-virginica       20.02   virginica\n",
      "78   Iris-versicolor       17.40  versicolor\n",
      "76   Iris-versicolor       19.04  versicolor\n"
     ]
    }
   ],
   "source": [
    "#sampling n rows from existing dataframe\n",
    "sample=(data.sample(n=5,replace=False,random_state=42))\n",
    "print(sample.iloc[:,-3:])"
   ]
  },
  {
   "cell_type": "code",
   "execution_count": null,
   "metadata": {
    "collapsed": true
   },
   "outputs": [],
   "source": []
  }
 ],
 "metadata": {
  "kernelspec": {
   "display_name": "Python 3",
   "language": "python",
   "name": "python3"
  },
  "language_info": {
   "codemirror_mode": {
    "name": "ipython",
    "version": 3
   },
   "file_extension": ".py",
   "mimetype": "text/x-python",
   "name": "python",
   "nbconvert_exporter": "python",
   "pygments_lexer": "ipython3",
   "version": "3.6.3"
  }
 },
 "nbformat": 4,
 "nbformat_minor": 2
}
